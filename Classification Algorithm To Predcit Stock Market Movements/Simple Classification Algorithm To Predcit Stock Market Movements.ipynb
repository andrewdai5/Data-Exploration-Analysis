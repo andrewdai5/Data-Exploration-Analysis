{
 "cells": [
  {
   "cell_type": "markdown",
   "metadata": {},
   "source": [
    "# Classification Algorithm To Predict Stock Market Movements"
   ]
  },
  {
   "cell_type": "markdown",
   "metadata": {},
   "source": [
    "In this notebook, I will demonstrated how to impletement a basic machine learning classification algorithm on the S&P 500 Index using Support Vector Classifier (SVC).  SVCs are supervised learning classification models. A set of training data is provided to the machine learning classification algorithm, each belonging to one of the categories. For instance, the categories can be to either buy or sell a stock. The classification algorithm builds a model based on the training data and then, classifies the test data into one of the categories."
   ]
  },
  {
   "cell_type": "markdown",
   "metadata": {},
   "source": [
    "### Step 1: Import the libraries"
   ]
  },
  {
   "cell_type": "code",
   "execution_count": 19,
   "metadata": {},
   "outputs": [],
   "source": [
    "from sklearn.svm import SVC\n",
    "from sklearn.metrics import scorer\n",
    "from sklearn.metrics import accuracy_score\n",
    "import pandas as pd\n",
    "import numpy as np\n",
    "import matplotlib.pyplot as plt\n",
    "import seaborn\n"
   ]
  },
  {
   "cell_type": "markdown",
   "metadata": {},
   "source": [
    "### Step 2: Download The Dataset"
   ]
  },
  {
   "cell_type": "markdown",
   "metadata": {},
   "source": [
    "We will download the historical price of S&P 500 (2012-01-02 - 2017-10-01) data from Yahoo Fiance (https://finance.yahoo.com/quote/SPY/history?period1=1357016400&period2=1546318800&interval=1d&filter=history&frequency=1d)\n",
    "\n",
    "After that, we will drop the missing values from the data and plot the S&P500 close price series."
   ]
  },
  {
   "cell_type": "code",
   "execution_count": 29,
   "metadata": {},
   "outputs": [
    {
     "data": {
      "text/html": [
       "<div>\n",
       "<style scoped>\n",
       "    .dataframe tbody tr th:only-of-type {\n",
       "        vertical-align: middle;\n",
       "    }\n",
       "\n",
       "    .dataframe tbody tr th {\n",
       "        vertical-align: top;\n",
       "    }\n",
       "\n",
       "    .dataframe thead th {\n",
       "        text-align: right;\n",
       "    }\n",
       "</style>\n",
       "<table border=\"1\" class=\"dataframe\">\n",
       "  <thead>\n",
       "    <tr style=\"text-align: right;\">\n",
       "      <th></th>\n",
       "      <th>Date</th>\n",
       "      <th>Open</th>\n",
       "      <th>High</th>\n",
       "      <th>Low</th>\n",
       "      <th>Close</th>\n",
       "      <th>Adj Close</th>\n",
       "      <th>Volume</th>\n",
       "    </tr>\n",
       "  </thead>\n",
       "  <tbody>\n",
       "    <tr>\n",
       "      <th>0</th>\n",
       "      <td>2012-01-03</td>\n",
       "      <td>127.760002</td>\n",
       "      <td>128.380005</td>\n",
       "      <td>127.430000</td>\n",
       "      <td>127.500000</td>\n",
       "      <td>110.244629</td>\n",
       "      <td>193697900</td>\n",
       "    </tr>\n",
       "    <tr>\n",
       "      <th>1</th>\n",
       "      <td>2012-01-04</td>\n",
       "      <td>127.199997</td>\n",
       "      <td>127.809998</td>\n",
       "      <td>126.709999</td>\n",
       "      <td>127.699997</td>\n",
       "      <td>110.417557</td>\n",
       "      <td>127186500</td>\n",
       "    </tr>\n",
       "    <tr>\n",
       "      <th>2</th>\n",
       "      <td>2012-01-05</td>\n",
       "      <td>127.010002</td>\n",
       "      <td>128.229996</td>\n",
       "      <td>126.430000</td>\n",
       "      <td>128.039993</td>\n",
       "      <td>110.711548</td>\n",
       "      <td>173895000</td>\n",
       "    </tr>\n",
       "    <tr>\n",
       "      <th>3</th>\n",
       "      <td>2012-01-06</td>\n",
       "      <td>128.199997</td>\n",
       "      <td>128.220001</td>\n",
       "      <td>127.290001</td>\n",
       "      <td>127.709999</td>\n",
       "      <td>110.426208</td>\n",
       "      <td>148050000</td>\n",
       "    </tr>\n",
       "    <tr>\n",
       "      <th>4</th>\n",
       "      <td>2012-01-09</td>\n",
       "      <td>128.000000</td>\n",
       "      <td>128.179993</td>\n",
       "      <td>127.410004</td>\n",
       "      <td>128.020004</td>\n",
       "      <td>110.694260</td>\n",
       "      <td>99530200</td>\n",
       "    </tr>\n",
       "  </tbody>\n",
       "</table>\n",
       "</div>"
      ],
      "text/plain": [
       "         Date        Open        High         Low       Close   Adj Close  \\\n",
       "0  2012-01-03  127.760002  128.380005  127.430000  127.500000  110.244629   \n",
       "1  2012-01-04  127.199997  127.809998  126.709999  127.699997  110.417557   \n",
       "2  2012-01-05  127.010002  128.229996  126.430000  128.039993  110.711548   \n",
       "3  2012-01-06  128.199997  128.220001  127.290001  127.709999  110.426208   \n",
       "4  2012-01-09  128.000000  128.179993  127.410004  128.020004  110.694260   \n",
       "\n",
       "      Volume  \n",
       "0  193697900  \n",
       "1  127186500  \n",
       "2  173895000  \n",
       "3  148050000  \n",
       "4   99530200  "
      ]
     },
     "execution_count": 29,
     "metadata": {},
     "output_type": "execute_result"
    }
   ],
   "source": [
    "Df = pd.read_csv(\"SPY.csv\")       \n",
    "Df.head()"
   ]
  },
  {
   "cell_type": "code",
   "execution_count": 33,
   "metadata": {},
   "outputs": [
    {
     "data": {
      "image/png": "[encoded data removed]",
      "text/plain": [
       "<Figure size 720x360 with 1 Axes>"
      ]
     },
     "metadata": {
      "needs_background": "light"
     },
     "output_type": "display_data"
    }
   ],
   "source": [
    "Df.Close.plot(figsize=(10,5))\n",
    "plt.ylabel(\"S&P500 Price\")\n",
    "plt.xlabel(\"Number of Trading Days since 2012-01-01\")\n",
    "plt.show()"
   ]
  },
  {
   "cell_type": "markdown",
   "metadata": {},
   "source": [
    "### Step 3: Determine the target variable"
   ]
  },
  {
   "cell_type": "markdown",
   "metadata": {},
   "source": [
    "The target variable is the variable which the mchine learning classification algorithm will predict. In this example, the target variable is whether S&P 500 price of the next trading day will close above or close below today's closing price.\n",
    "\n",
    "We will first determine the actual trading signal using the following logic – If the predicted next trading day’s close price is greater than today’s close price then, we will buy the S&P 500 index during pre-market hours, else we will sell the S&P500 index during pre-market hours. We will store +1 for the buy signal and -1 for the sell signal."
   ]
  },
  {
   "cell_type": "code",
   "execution_count": 22,
   "metadata": {},
   "outputs": [],
   "source": [
    "y = np.where(Df['Close'].shift(-1) > Df['Close'],1,-1)"
   ]
  },
  {
   "cell_type": "markdown",
   "metadata": {},
   "source": [
    "### Step 4: Creation of predictors variables"
   ]
  },
  {
   "cell_type": "markdown",
   "metadata": {},
   "source": [
    "The X is a dataset that holds the predictor’s variables which are used to predict target variable, ‘y’. The X consists of variables current day ‘Open – Close’ and  current day ‘High – Low’. These can be understood as indicators based on which the algorithm will predict next trading day's stock price."
   ]
  },
  {
   "cell_type": "code",
   "execution_count": 23,
   "metadata": {},
   "outputs": [],
   "source": [
    "Df['Open-Close'] = Df.Open - Df.Close\n",
    "\n",
    "Df['High-Low'] = Df.High - Df.Low\n",
    "\n",
    "X=Df[['Open-Close','High-Low']]"
   ]
  },
  {
   "cell_type": "markdown",
   "metadata": {},
   "source": [
    "In the later part of the code, the machine learning classification algorithm will use the predictors and target variable in the training phase to create the model and then, predict the target variable with the test dataset."
   ]
  },
  {
   "cell_type": "markdown",
   "metadata": {},
   "source": [
    "### Step 5: Split test and train datasets"
   ]
  },
  {
   "cell_type": "markdown",
   "metadata": {},
   "source": [
    "We will split data into the train dataset and the test dataset with a 80/20 split"
   ]
  },
  {
   "cell_type": "code",
   "execution_count": 24,
   "metadata": {},
   "outputs": [],
   "source": [
    "split_percentage = 0.8\n",
    "split = int(split_percentage*len(Df))\n",
    "\n",
    "# Train data set\n",
    "X_train = X[:split]\n",
    "y_train = y[:split]\n",
    "\n",
    "# Test data set\n",
    "X_test = X[split:]\n",
    "y_test = y[split:]"
   ]
  },
  {
   "cell_type": "markdown",
   "metadata": {},
   "source": [
    "### Step 6: Create classification model using the train dataset"
   ]
  },
  {
   "cell_type": "markdown",
   "metadata": {},
   "source": [
    "Create model using Support Vector Classifier (SVC). This model will be later used to predict the trading signal in the test dataset."
   ]
  },
  {
   "cell_type": "code",
   "execution_count": 25,
   "metadata": {},
   "outputs": [
    {
     "name": "stderr",
     "output_type": "stream",
     "text": [
      "c:\\users\\syson\\appdata\\local\\programs\\python\\python37-32\\lib\\site-packages\\sklearn\\svm\\base.py:196: FutureWarning: The default value of gamma will change from 'auto' to 'scale' in version 0.22 to account better for unscaled features. Set gamma explicitly to 'auto' or 'scale' to avoid this warning.\n",
      "  \"avoid this warning.\", FutureWarning)\n"
     ]
    }
   ],
   "source": [
    "cls = SVC().fit(X_train, y_train)"
   ]
  },
  {
   "cell_type": "markdown",
   "metadata": {},
   "source": [
    "### Step 7: The classification model accuracy"
   ]
  },
  {
   "cell_type": "markdown",
   "metadata": {},
   "source": [
    "We will compute the accuracy of the classification model on the train and test dataset, by comparing the actual values of the trading signal with the predicted values of the trading signal. The function accuracy_score() will be used to calculate the accuracy."
   ]
  },
  {
   "cell_type": "markdown",
   "metadata": {},
   "source": [
    "1. target_actual_value: correct signal values\n",
    "2. target_predicted_value: predicted signal values"
   ]
  },
  {
   "cell_type": "code",
   "execution_count": 26,
   "metadata": {},
   "outputs": [],
   "source": [
    "accuracy_train = accuracy_score(y_train, cls.predict(X_train))\n",
    "accuracy_test = accuracy_score(y_test, cls.predict(X_test))"
   ]
  },
  {
   "cell_type": "code",
   "execution_count": 27,
   "metadata": {},
   "outputs": [
    {
     "name": "stdout",
     "output_type": "stream",
     "text": [
      "\n",
      "Train Accuracy: 55.88%\n",
      "Test Accuracy: 53.45%\n"
     ]
    }
   ],
   "source": [
    "print('\\nTrain Accuracy:{: .2f}%'.format(accuracy_train*100))\n",
    "print('Test Accuracy:{: .2f}%'.format(accuracy_test*100))"
   ]
  },
  {
   "cell_type": "markdown",
   "metadata": {},
   "source": [
    "An accuracy of 50%+ in test data suggests that the classification model is effective."
   ]
  },
  {
   "cell_type": "markdown",
   "metadata": {},
   "source": [
    "### Step 8: Prediction"
   ]
  },
  {
   "cell_type": "markdown",
   "metadata": {},
   "source": [
    "We will predict the signal (buy or sell) for the test data set, using the cls.predict() function. Then, we will compute the strategy returns based on the signal predicted by the model in the test dataset. We save it in the column ‘Strategy_Return’ and then, plot the cumulative strategy returns."
   ]
  },
  {
   "cell_type": "code",
   "execution_count": 32,
   "metadata": {},
   "outputs": [
    {
     "data": {
      "image/png": "[encoded data removed]",
      "text/plain": [
       "<Figure size 720x360 with 1 Axes>"
      ]
     },
     "metadata": {
      "needs_background": "light"
     },
     "output_type": "display_data"
    }
   ],
   "source": [
    "Df['Predicted_Signal'] = cls.predict(X)\n",
    "# Calculate log returns\n",
    "\n",
    "Df['Return'] = np.log(Df.Close.shift(-1) / Df.Close)*100\n",
    "\n",
    "Df['Strategy_Return'] = Df.Return * Df.Predicted_Signal\n",
    "\n",
    "Df.Strategy_Return.iloc[split:].cumsum().plot(figsize=(10,5))\n",
    "\n",
    "plt.ylabel(\"Strategy Returns (%)\")\n",
    "plt.xlabel(\"Number of Trading Days since 2012-01-01\")\n",
    "\n",
    "plt.show()"
   ]
  },
  {
   "cell_type": "markdown",
   "metadata": {},
   "source": [
    "As seen from the graph, using the test dataset the classification algorithm generates a return of around 15% after 253 trading days (assuming that the algorithm risk 2% of total capital per trade)."
   ]
  }
 ],
 "metadata": {
  "kernelspec": {
   "display_name": "Python 3",
   "language": "python",
   "name": "python3"
  },
  "language_info": {
   "codemirror_mode": {
    "name": "ipython",
    "version": 3
   },
   "file_extension": ".py",
   "mimetype": "text/x-python",
   "name": "python",
   "nbconvert_exporter": "python",
   "pygments_lexer": "ipython3",
   "version": "3.7.0"
  }
 },
 "nbformat": 4,
 "nbformat_minor": 2
}
