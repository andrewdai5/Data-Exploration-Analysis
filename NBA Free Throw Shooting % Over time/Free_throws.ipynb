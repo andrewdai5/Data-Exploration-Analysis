{
 "cells": [
  {
   "cell_type": "markdown",
   "metadata": {},
   "source": [
    "# NBA Free Throw Shooting Percentage"
   ]
  },
  {
   "cell_type": "markdown",
   "metadata": {
    "_cell_guid": "60766af2-a441-e8bd-ebd8-4bf7cd8de0bf",
    "_uuid": "be56d79a723e77ed58a4aa78f79a58a5923ec97b"
   },
   "source": [
    "In this script I will aim to analyze the free-throw shooting percentage of NBA players in each period of the game.\n",
    "\n",
    "Questions:\n",
    " - Does it go down as the game approaches the ending due to higher pressure?\n",
    " - Does it go up thanks to players being warmer, or alternatively - better shooters take the ball?\n",
    "\n",
    "The following analysis uses NBA free-throw data between 2006 and 2016.\n",
    "The data set includes information when the free throw was taken during the game, who took the shot and if it went in or not.\n",
    "\n",
    "The data was scraped from ESPN.com. One example site is: http://www.espn.com/nba/playbyplay?gameId=261229030\n"
   ]
  },
  {
   "cell_type": "code",
   "execution_count": 7,
   "metadata": {
    "_cell_guid": "72629411-6b1b-07b3-822d-911090f13ba5",
    "_uuid": "2b87e4c21ea151f0eff3fbcb46fcdf29aec42962"
   },
   "outputs": [],
   "source": [
    "import numpy as np\n",
    "import pandas as pd\n",
    "import matplotlib.pyplot as plt\n",
    "from subprocess import check_output\n",
    "plt.style.use('fivethirtyeight')\n",
    "%matplotlib inline\n",
    "\n",
    "\n",
    "\n",
    "df = pd.read_csv(\"free_throws.csv\")"
   ]
  },
  {
   "cell_type": "code",
   "execution_count": 8,
   "metadata": {},
   "outputs": [
    {
     "data": {
      "text/html": [
       "<div>\n",
       "<style scoped>\n",
       "    .dataframe tbody tr th:only-of-type {\n",
       "        vertical-align: middle;\n",
       "    }\n",
       "\n",
       "    .dataframe tbody tr th {\n",
       "        vertical-align: top;\n",
       "    }\n",
       "\n",
       "    .dataframe thead th {\n",
       "        text-align: right;\n",
       "    }\n",
       "</style>\n",
       "<table border=\"1\" class=\"dataframe\">\n",
       "  <thead>\n",
       "    <tr style=\"text-align: right;\">\n",
       "      <th></th>\n",
       "      <th>end_result</th>\n",
       "      <th>game</th>\n",
       "      <th>game_id</th>\n",
       "      <th>period</th>\n",
       "      <th>play</th>\n",
       "      <th>player</th>\n",
       "      <th>playoffs</th>\n",
       "      <th>score</th>\n",
       "      <th>season</th>\n",
       "      <th>shot_made</th>\n",
       "      <th>time</th>\n",
       "    </tr>\n",
       "  </thead>\n",
       "  <tbody>\n",
       "    <tr>\n",
       "      <th>0</th>\n",
       "      <td>106 - 114</td>\n",
       "      <td>PHX - LAL</td>\n",
       "      <td>261031013.0</td>\n",
       "      <td>1.0</td>\n",
       "      <td>Andrew Bynum makes free throw 1 of 2</td>\n",
       "      <td>Andrew Bynum</td>\n",
       "      <td>regular</td>\n",
       "      <td>0 - 1</td>\n",
       "      <td>2006 - 2007</td>\n",
       "      <td>1</td>\n",
       "      <td>11:45</td>\n",
       "    </tr>\n",
       "    <tr>\n",
       "      <th>1</th>\n",
       "      <td>106 - 114</td>\n",
       "      <td>PHX - LAL</td>\n",
       "      <td>261031013.0</td>\n",
       "      <td>1.0</td>\n",
       "      <td>Andrew Bynum makes free throw 2 of 2</td>\n",
       "      <td>Andrew Bynum</td>\n",
       "      <td>regular</td>\n",
       "      <td>0 - 2</td>\n",
       "      <td>2006 - 2007</td>\n",
       "      <td>1</td>\n",
       "      <td>11:45</td>\n",
       "    </tr>\n",
       "    <tr>\n",
       "      <th>2</th>\n",
       "      <td>106 - 114</td>\n",
       "      <td>PHX - LAL</td>\n",
       "      <td>261031013.0</td>\n",
       "      <td>1.0</td>\n",
       "      <td>Andrew Bynum makes free throw 1 of 2</td>\n",
       "      <td>Andrew Bynum</td>\n",
       "      <td>regular</td>\n",
       "      <td>18 - 12</td>\n",
       "      <td>2006 - 2007</td>\n",
       "      <td>1</td>\n",
       "      <td>7:26</td>\n",
       "    </tr>\n",
       "    <tr>\n",
       "      <th>3</th>\n",
       "      <td>106 - 114</td>\n",
       "      <td>PHX - LAL</td>\n",
       "      <td>261031013.0</td>\n",
       "      <td>1.0</td>\n",
       "      <td>Andrew Bynum misses free throw 2 of 2</td>\n",
       "      <td>Andrew Bynum</td>\n",
       "      <td>regular</td>\n",
       "      <td>18 - 12</td>\n",
       "      <td>2006 - 2007</td>\n",
       "      <td>0</td>\n",
       "      <td>7:26</td>\n",
       "    </tr>\n",
       "    <tr>\n",
       "      <th>4</th>\n",
       "      <td>106 - 114</td>\n",
       "      <td>PHX - LAL</td>\n",
       "      <td>261031013.0</td>\n",
       "      <td>1.0</td>\n",
       "      <td>Shawn Marion makes free throw 1 of 1</td>\n",
       "      <td>Shawn Marion</td>\n",
       "      <td>regular</td>\n",
       "      <td>21 - 12</td>\n",
       "      <td>2006 - 2007</td>\n",
       "      <td>1</td>\n",
       "      <td>7:18</td>\n",
       "    </tr>\n",
       "  </tbody>\n",
       "</table>\n",
       "</div>"
      ],
      "text/plain": [
       "  end_result       game      game_id  period  \\\n",
       "0  106 - 114  PHX - LAL  261031013.0     1.0   \n",
       "1  106 - 114  PHX - LAL  261031013.0     1.0   \n",
       "2  106 - 114  PHX - LAL  261031013.0     1.0   \n",
       "3  106 - 114  PHX - LAL  261031013.0     1.0   \n",
       "4  106 - 114  PHX - LAL  261031013.0     1.0   \n",
       "\n",
       "                                    play        player playoffs    score  \\\n",
       "0   Andrew Bynum makes free throw 1 of 2  Andrew Bynum  regular    0 - 1   \n",
       "1   Andrew Bynum makes free throw 2 of 2  Andrew Bynum  regular    0 - 2   \n",
       "2   Andrew Bynum makes free throw 1 of 2  Andrew Bynum  regular  18 - 12   \n",
       "3  Andrew Bynum misses free throw 2 of 2  Andrew Bynum  regular  18 - 12   \n",
       "4   Shawn Marion makes free throw 1 of 1  Shawn Marion  regular  21 - 12   \n",
       "\n",
       "        season  shot_made   time  \n",
       "0  2006 - 2007          1  11:45  \n",
       "1  2006 - 2007          1  11:45  \n",
       "2  2006 - 2007          1   7:26  \n",
       "3  2006 - 2007          0   7:26  \n",
       "4  2006 - 2007          1   7:18  "
      ]
     },
     "execution_count": 8,
     "metadata": {},
     "output_type": "execute_result"
    }
   ],
   "source": [
    "df.head()"
   ]
  },
  {
   "cell_type": "code",
   "execution_count": 9,
   "metadata": {},
   "outputs": [
    {
     "name": "stdout",
     "output_type": "stream",
     "text": [
      "<class 'pandas.core.frame.DataFrame'>\n",
      "RangeIndex: 618019 entries, 0 to 618018\n",
      "Data columns (total 11 columns):\n",
      "end_result    618019 non-null object\n",
      "game          618019 non-null object\n",
      "game_id       618019 non-null float64\n",
      "period        618019 non-null float64\n",
      "play          618019 non-null object\n",
      "player        618019 non-null object\n",
      "playoffs      618019 non-null object\n",
      "score         618019 non-null object\n",
      "season        618019 non-null object\n",
      "shot_made     618019 non-null int64\n",
      "time          618019 non-null object\n",
      "dtypes: float64(2), int64(1), object(8)\n",
      "memory usage: 33.0+ MB\n"
     ]
    }
   ],
   "source": [
    "df.info()\n"
   ]
  },
  {
   "cell_type": "markdown",
   "metadata": {
    "_cell_guid": "a468c8e8-b068-1201-5aff-80616732dbd4",
    "_uuid": "19d583cd323c5253d22f94b054f663e33f8b71e5"
   },
   "source": [
    "Let's create some new features - number of seconds and minutes from the beginning of the match:"
   ]
  },
  {
   "cell_type": "code",
   "execution_count": 2,
   "metadata": {
    "_cell_guid": "e36b9c82-1335-cd73-17f3-f2bb8af2c08a",
    "_uuid": "1e27f73ebf86606bc4ed3cf470f37f196c5e0f55"
   },
   "outputs": [],
   "source": [
    "df['minute'] = df.time.apply(lambda x: int(x[:len(x)-3]))\n",
    "df['sec'] = df.time.apply(lambda x: int(x[len(x)-2:]))\n",
    "df['abs_min'] = 12 - df['minute']+12*(df.period -1)\n",
    "df['abs_time'] = 60*(df.abs_min-1) + 60 - df['sec']"
   ]
  },
  {
   "cell_type": "code",
   "execution_count": 3,
   "metadata": {
    "_cell_guid": "a7599ce3-2d08-b2c0-a214-55eec4fff0dd",
    "_uuid": "a43a737a3c15873cf439be332aa682545d70502d"
   },
   "outputs": [
    {
     "name": "stderr",
     "output_type": "stream",
     "text": [
      "c:\\users\\syson\\appdata\\local\\programs\\python\\python37-32\\lib\\site-packages\\ipykernel_launcher.py:4: RuntimeWarning: invalid value encountered in true_divide\n",
      "  after removing the cwd from sys.path.\n"
     ]
    }
   ],
   "source": [
    "def group_values(df,minute):\n",
    "    made = len(df[(df.abs_min == minute) & (df.shot_made == 1)])\n",
    "    total = len(df[df.abs_min == minute])\n",
    "    return np.true_divide(made,total)\n",
    "\n",
    "minutes = range(int(max(df.abs_min)))\n",
    "\n",
    "per_min = []\n",
    "for minu in minutes:\n",
    "    per_min.append(group_values(df,minu))"
   ]
  },
  {
   "cell_type": "markdown",
   "metadata": {
    "_cell_guid": "918c6434-16b0-7524-ad15-6a5075b8fc33",
    "_uuid": "5c1cb4e5f7b58efdaaaa232e460fd01df91c01ba"
   },
   "source": [
    "Now Let's plot the shooting percentage over time:"
   ]
  },
  {
   "cell_type": "code",
   "execution_count": 4,
   "metadata": {
    "_cell_guid": "5bd30a90-1324-0f35-3d74-a683058c9b93",
    "_uuid": "8ea1f11016b35c62c49e64738ef44db27bb91e02"
   },
   "outputs": [
    {
     "data": {
      "text/plain": [
       "Text(0, 0.5, 'Free Throws %')"
      ]
     },
     "execution_count": 4,
     "metadata": {},
     "output_type": "execute_result"
    },
    {
     "data": {
      "image/png": "[encoded data removed]",
      "text/plain": [
       "<Figure size 432x288 with 1 Axes>"
      ]
     },
     "metadata": {
      "needs_background": "light"
     },
     "output_type": "display_data"
    }
   ],
   "source": [
    "plt.plot(minutes,per_min)\n",
    "plt.title('Scoring % over time - Always worse at the beginning')\n",
    "plt.xlim([1,48])\n",
    "plt.ylim([0.65,0.85])\n",
    "plt.plot([12,12],[0,1], '--', linewidth = 1, color = 'r')\n",
    "plt.plot([24,24],[0,1], '--', linewidth = 1, color = 'r')\n",
    "plt.plot([36,36],[0,1], '--', linewidth = 1, color = 'r')\n",
    "plt.plot([48,48],[0,1], '--', linewidth = 1, color = 'r')\n",
    "plt.xlabel('Minute')\n",
    "plt.ylabel('Free Throws %')"
   ]
  },
  {
   "cell_type": "markdown",
   "metadata": {
    "_cell_guid": "ec19a5d4-fd06-c42e-6bb1-415f8ede4a00",
    "_uuid": "c70a2f30656dec3e711a6bcf1a3345ad3ff3ef98"
   },
   "source": [
    "Interestingly, while the curve is relatively flat, 2 trends can be observed:\n",
    "\n",
    " 1. At the beginning of every querter - the percentage drops\n",
    " 2. At the end of a quarter, and by far most clearly seen at the end of the game, the shooting percentage goes up"
   ]
  },
  {
   "cell_type": "markdown",
   "metadata": {
    "_cell_guid": "3f10a85b-1c21-6a7e-200f-9e3093f69d9f",
    "_uuid": "a69f2ed460ae24c37ca1a1a10240defe7dcb3c8a"
   },
   "source": [
    "It is possible that the number of shots also varies over time, and therefore the statistics can get less/more noisy, let's explore this:"
   ]
  },
  {
   "cell_type": "code",
   "execution_count": null,
   "metadata": {
    "_cell_guid": "0a5bd26b-46f7-254d-373a-a7e2464ce435",
    "_uuid": "0d33b1fae5ac87c2ec68b0bf794145e2c5151ef9"
   },
   "outputs": [],
   "source": [
    "minutes_df = pd.DataFrame()\n",
    "minutes_df['minutes'] = range(int(max(df.abs_min)))\n",
    "minutes_df['shots'] = minutes_df.minutes.apply(lambda x: len(df[df.abs_min == x]))\n",
    "minutes_df['players_num'] = minutes_df.minutes.apply(lambda x: len(np.unique(df.player[df.abs_min == x])))"
   ]
  },
  {
   "cell_type": "code",
   "execution_count": null,
   "metadata": {
    "_cell_guid": "394b3274-754f-f16d-6355-d0200e918e3d",
    "_uuid": "0c45b3af041bed524fa1bc7f411f6b30a6f4923b"
   },
   "outputs": [
    {
     "data": {
      "text/plain": [
       "[<matplotlib.lines.Line2D at 0xe196af0>]"
      ]
     },
     "execution_count": 6,
     "metadata": {},
     "output_type": "execute_result"
    },
    {
     "data": {
      "image/png": "[encoded data removed]",
      "text/plain": [
       "<Figure size 432x288 with 1 Axes>"
      ]
     },
     "metadata": {
      "needs_background": "light"
     },
     "output_type": "display_data"
    }
   ],
   "source": [
    "plt.plot(minutes_df['shots'])\n",
    "plt.title('Number of Shots over time - mostly in the end of the querter')\n",
    "plt.ylabel('# of Shots')\n",
    "plt.xlabel('Minute')\n",
    "plt.xlim([1,48])\n",
    "plt.plot([12,12],[0,40000], '--', linewidth = 1, color = 'r')\n",
    "plt.plot([24,24],[0,40000], '--', linewidth = 1, color = 'r')\n",
    "plt.plot([36,36],[0,40000], '--', linewidth = 1, color = 'r')\n",
    "plt.plot([48,48],[0,40000], '--', linewidth = 1, color = 'r')"
   ]
  },
  {
   "cell_type": "markdown",
   "metadata": {
    "_cell_guid": "e1fdd1f5-2728-4d0c-49e2-9b5d470f9572",
    "_uuid": "6d99e836d0944014f99fa6893ce6c56f5c5c4770"
   },
   "source": [
    "We can see that every quarter the number of shots goes up as the quarter advances. again the last quarter is an anomaly - where the number of shots goes up significantly.\n",
    "\n",
    "This makes sense taking into account that after a certain limit of fouls per quarter, the attacker goes to the line after every foul.\n",
    "\n",
    "However - While we would expect the statistics of shots approaching the end of the quarter to be more consistent thanks to the larger number of samples, this does not explain the consistent difference between FT% at the beginning and the end of each quarter."
   ]
  },
  {
   "cell_type": "code",
   "execution_count": null,
   "metadata": {
    "_cell_guid": "5235bb65-e0f1-df96-876c-ca7dcc988af4",
    "_uuid": "0538ab9b465c72c32b53e658224a8c1340f9f9d2"
   },
   "outputs": [],
   "source": [
    "players_df = pd.DataFrame()\n",
    "players_df['name'] = np.unique(df.player)\n",
    "players_df['pct'] = players_df.name.apply(lambda x: np.true_divide(len(df[(df.shot_made == 1) & (df.player ==x)]), len(df[df.player == x])))\n",
    "df['player_pct'] = df.player.apply(lambda x: players_df.pct[players_df.name == x].values[0])\n",
    "minutes_df['avg_pct'] = minutes_df.minutes.apply(lambda x: np.mean(df.player_pct[df.abs_min == x]))"
   ]
  },
  {
   "cell_type": "markdown",
   "metadata": {
    "_cell_guid": "46488aad-5b9a-914d-9012-5b4406e02257",
    "_uuid": "9f25ab1d7780fac09386d6172e1a31be6b4a9dd4"
   },
   "source": [
    "Another possibility is that better FT shooters take the ball more often as the end of the quarter approaches and the offense is more likely to go to the line. let's explore which players shoot when:"
   ]
  },
  {
   "cell_type": "code",
   "execution_count": null,
   "metadata": {
    "_cell_guid": "e293bd79-ec39-328e-bf7b-0fdab6c9f9fb",
    "_uuid": "8a5c83f41495bd56a4313ab84016bcbcb145fb58"
   },
   "outputs": [],
   "source": [
    "plt.plot(minutes_df.avg_pct)\n",
    "plt.xlim([2,48])\n",
    "plt.ylim([0.65,0.85])\n",
    "plt.plot([12,12],[0,1], '--', linewidth = 1, color = 'r')\n",
    "plt.plot([24,24],[0,1], '--', linewidth = 1, color = 'r')\n",
    "plt.plot([36,36],[0,1], '--', linewidth = 1, color = 'r')\n",
    "plt.plot([48,48],[0,1], '--', linewidth = 1, color = 'r')\n",
    "plt.xlabel('Minute')\n",
    "plt.ylabel('Average FT% of players shooting')\n",
    "plt.title('In the money time - the better shooters go to the line')"
   ]
  },
  {
   "cell_type": "code",
   "execution_count": 6,
   "metadata": {},
   "outputs": [
    {
     "data": {
      "image/png": "[encoded data removed]",
      "text/plain": [
       "<IPython.core.display.Image object>"
      ]
     },
     "execution_count": 6,
     "metadata": {},
     "output_type": "execute_result"
    }
   ],
   "source": [
    "from IPython.display import Image\n",
    "Image(\"go_to_line.png\")"
   ]
  },
  {
   "cell_type": "markdown",
   "metadata": {
    "_cell_guid": "7b5be79c-6bcf-c0fb-8fd2-b40daaafc94d",
    "_uuid": "d14853a1857abfd8e78f5f22f6af63d99e30be46"
   },
   "source": [
    "We can see in the graph above that indeed better shooters go to the line in the end of the quarter and especially in the last minute of the game. \n",
    "\n",
    "We also see that the phenomenon of worse shooting percentage at the beginning of the game is dminished (though not sure if totally disappears). This implies that while the rising FT% at the end of the quarter probably results from a change in the shooters \"demographics\" (better shooters take the ball), the phenomenon of low FT% at the beginning is less player dependent, and therefore more time dependent (physical\\psychological warm up).\n",
    "\n",
    "This can be concluded if we check how the FT% of the player improves (or not) after the first 2-3 shots, on which I am working now :)"
   ]
  }
 ],
 "metadata": {
  "_change_revision": 0,
  "_is_fork": false,
  "kernelspec": {
   "display_name": "Python 3",
   "language": "python",
   "name": "python3"
  },
  "language_info": {
   "codemirror_mode": {
    "name": "ipython",
    "version": 3
   },
   "file_extension": ".py",
   "mimetype": "text/x-python",
   "name": "python",
   "nbconvert_exporter": "python",
   "pygments_lexer": "ipython3",
   "version": "3.7.0"
  }
 },
 "nbformat": 4,
 "nbformat_minor": 1
}
