{
  "cells": [
    {
      "metadata": {
        "_cell_guid": "e9282699-ac84-ddcf-bccc-ac8838f60930",
        "_uuid": "4fda8526adf5fc6d62e9c50aabd848f83f596bfa"
      },
      "cell_type": "markdown",
      "source": "# The inevitable aging of a star\nKobe Bryant has been one of the most dominant players in the NBA through out the last two decades, arguably the best since the (2nd) retirement of Michael Jordan in 1998.  However, in this script I will claim that as a human being and despite his physical superiority, Bryant is not immune to the effect of aging. \n\nI will show that as the years go by, Kobe has increasingly preferred the long distance shot rather than the lay-up, as his amazing athleticism and speed slowly degrade. \n\nWhile this might simply imply an improvement of his style, and maybe in the overall NBA playing style, the fact that his overall field goals went down shows that this was a restriction that was imposed upon him by the inevitable advancement of his biological clock rather than a positive evolution of him as a player.\n\n\n"
    },
    {
      "metadata": {
        "_cell_guid": "57095030-c245-1646-ef0c-dc868d6653dd",
        "_uuid": "bccb523efe0a1394505bd5218989928317daa7a5"
      },
      "cell_type": "markdown",
      "source": "# Load Libraries"
    },
    {
      "metadata": {
        "_cell_guid": "68bec7ff-f6e6-cb14-b913-c70707f7c246",
        "_uuid": "aa3e7db8c4de5b3d534cdfe2f893e3fc540a502e",
        "trusted": false
      },
      "cell_type": "code",
      "source": "import pandas as pd #the whole data will be stored in a pandas data frame\nimport matplotlib.pyplot as plt  #for plotting the data\nfrom matplotlib.patches import Circle, Rectangle, Arc\nimport matplotlib\nmatplotlib.style.use('fivethirtyeight')\nimport numpy as np #for numbers handling \n",
      "execution_count": null,
      "outputs": []
    },
    {
      "metadata": {
        "_cell_guid": "4b8ba40b-574c-fd58-f396-e141f0c62667",
        "_uuid": "ed7dd45ff1c082cf0a21c05543ee58b8e53a56c4"
      },
      "cell_type": "markdown",
      "source": "# This Great script for drawing the courst was stolen from MichaelKrueger's excelent script:"
    },
    {
      "metadata": {
        "_cell_guid": "0a2564c6-4027-772b-ef19-c73412320697",
        "_uuid": "7be0fe0f3c296d02f71be511ce0fb98437bef7bd",
        "trusted": false
      },
      "cell_type": "code",
      "source": "def draw_court(ax=None, color='black', lw=2, outer_lines=False):\n    # If an axes object isn't provided to plot onto, just get current one\n    if ax is None:\n        ax = plt.gca()\n\n    # Create the various parts of an NBA basketball court\n\n    # Create the basketball hoop\n    # Diameter of a hoop is 18\" so it has a radius of 9\", which is a value\n    # 7.5 in our coordinate system\n    hoop = Circle((0, 0), radius=7.5, linewidth=lw, color=color, fill=False)\n\n    # Create backboard\n    backboard = Rectangle((-30, -7.5), 60, -1, linewidth=lw, color=color)\n\n    # The paint\n    # Create the outer box 0f the paint, width=16ft, height=19ft\n    outer_box = Rectangle((-80, -47.5), 160, 190, linewidth=lw, color=color,\n                          fill=False)\n    # Create the inner box of the paint, widt=12ft, height=19ft\n    inner_box = Rectangle((-60, -47.5), 120, 190, linewidth=lw, color=color,\n                          fill=False)\n\n    # Create free throw top arc\n    top_free_throw = Arc((0, 142.5), 120, 120, theta1=0, theta2=180,\n                         linewidth=lw, color=color, fill=False)\n    # Create free throw bottom arc\n    bottom_free_throw = Arc((0, 142.5), 120, 120, theta1=180, theta2=0,\n                            linewidth=lw, color=color, linestyle='dashed')\n    # Restricted Zone, it is an arc with 4ft radius from center of the hoop\n    restricted = Arc((0, 0), 80, 80, theta1=0, theta2=180, linewidth=lw,\n                     color=color)\n\n    # Three point line\n    # Create the side 3pt lines, they are 14ft long before they begin to arc\n    corner_three_a = Rectangle((-220, -47.5), 0, 140, linewidth=lw,\n                               color=color)\n    corner_three_b = Rectangle((220, -47.5), 0, 140, linewidth=lw, color=color)\n    # 3pt arc - center of arc will be the hoop, arc is 23'9\" away from hoop\n    # I just played around with the theta values until they lined up with the \n    # threes\n    three_arc = Arc((0, 0), 475, 475, theta1=22, theta2=158, linewidth=lw,\n                    color=color)\n\n    # Center Court\n    center_outer_arc = Arc((0, 422.5), 120, 120, theta1=180, theta2=0,\n                           linewidth=lw, color=color)\n    center_inner_arc = Arc((0, 422.5), 40, 40, theta1=180, theta2=0,\n                           linewidth=lw, color=color)\n\n    # List of the court elements to be plotted onto the axes\n    court_elements = [hoop, backboard, outer_box, inner_box, top_free_throw,\n                      bottom_free_throw, restricted, corner_three_a,\n                      corner_three_b, three_arc, center_outer_arc,\n                      center_inner_arc]\n\n    if outer_lines:\n        # Draw the half court line, baseline and side out bound lines\n        outer_lines = Rectangle((-250, -47.5), 500, 470, linewidth=lw,\n                                color=color, fill=False)\n        court_elements.append(outer_lines)\n\n    # Add the court elements onto the axes\n    for element in court_elements:\n        ax.add_patch(element)\n\n    return ax\n    ",
      "execution_count": null,
      "outputs": []
    },
    {
      "metadata": {
        "_cell_guid": "3f1f7b4e-c207-0a1b-3c26-ed6bdaece8e0",
        "_uuid": "da480e91bfc77ba9e2f783d96dc305ba1a5e1923"
      },
      "cell_type": "markdown",
      "source": "# Read the data and modify it"
    },
    {
      "metadata": {
        "_cell_guid": "0daeb6c9-8170-d8de-0b27-1e206cab9132",
        "_uuid": "497f1a34707bdfaf6b08cb4fd8fd612d2ea95aff",
        "trusted": false
      },
      "cell_type": "code",
      "source": "df = pd.read_csv('../input/data.csv')\ndf['numeric_season'] = 1\nfor row in df.index:\n    df['numeric_season'][row] = df.season[row][len(df.season[row])-2:len(df.season[row])]",
      "execution_count": null,
      "outputs": []
    },
    {
      "metadata": {
        "_cell_guid": "22ee96cb-44f6-8cd2-6e73-1a49c0d2c2f4",
        "_uuid": "2afe8f4d7834f42330cab6cac482885bfc78db51"
      },
      "cell_type": "markdown",
      "source": "# Kobe's average shooting position through out the years:"
    },
    {
      "metadata": {
        "_cell_guid": "7110ab75-e1ce-13d4-09d6-a560014dc6da",
        "_uuid": "2bd5c9b61c2ceab8d3e4596ee6ed65d4d627b159",
        "trusted": false
      },
      "cell_type": "code",
      "source": "plt.figure(figsize = (10,10))\nyears = range(16)\n\naverage_x = years\naverage_y = years\n\nind = 0\n\nfor i,year in enumerate(years):\n\n    x = np.mean(df.loc_x[df.numeric_season==year])\n    y = np.mean(df.loc_y[df.numeric_season==year])\n    dist = np.sqrt(np.power(x,2) + np.power(y,2))\n    plt.plot(x,y,'ro',hold = True,markersize = ind+10, label = str(2000 +year))\n    ind = ind + 1\n         \nplt.ylim([0,200])\nplt.xlim([-100,100])\ndraw_court(outer_lines=True)\nplt.legend(fontsize = 20,numpoints=1)\nplt.show()",
      "execution_count": null,
      "outputs": []
    },
    {
      "metadata": {
        "_cell_guid": "ef5f6cb1-4c46-b20d-385c-7468ce9b18cc",
        "_uuid": "dbd2f9c1b44dfc5230fc2c89283549ec2eda8615"
      },
      "cell_type": "markdown",
      "source": "# Kobe is getting away from the basket as years go by\n\n"
    },
    {
      "metadata": {
        "_cell_guid": "6aedb549-1a06-9caa-9959-5f686b914243",
        "_uuid": "a09fb78d62b953d0d230318cf15805a0f09a9809",
        "trusted": false
      },
      "cell_type": "code",
      "source": "df['Dist'] = np.power(df.loc_x,2)+np.power(df.loc_y,2)\ndf['Dist'] = np.sqrt(df.Dist)\nyears = [97,98,99,0,1,2,3,4,5,6,7,8,9,10,11,12,13,14,15,16]\nind = 0\navg_dist = years\nfor year in years:\n\n    avg_dist[ind] = np.mean(df.Dist[df.numeric_season==year])\n    ind = ind + 1\navg_dist = np.divide(avg_dist,41.6)\nyears = [1997,1998,1999,2000,2001,2002,2003,2004,2005,2006,2007,2008,2009,2010,2011,2012,2013,2014,2015,2016]\ncoff = np.polyfit(years,avg_dist, 1, rcond=None, full=False, w=None, cov=False)\nx = np.linspace(1996,2018,100)\ny = np.multiply(coff[0],x) + coff[1]\n\nplt.figure(figsize = (10,10))\nplt.xlim([1996,2017])\nplt.xlabel('Year')\nplt.ylabel('Average Shot Distance [m]')\nplt.grid()\nplt.plot(x,y,'r')\nplt.plot(years,avg_dist,'o', markersize = 20)\nplt.show()",
      "execution_count": null,
      "outputs": []
    },
    {
      "metadata": {
        "_cell_guid": "4794dc4c-e0d6-0216-2363-a646c09f19d4",
        "_uuid": "521714ebc33ec75782cab3a986262e60d83017ce"
      },
      "cell_type": "markdown",
      "source": "# Kobe's Average distance shot per year\n\n - We can see that Kobe's is getting consistently further from the basket\n - In 18 years, he hot about 2 meters away from the basket on average. this doesn't tell the whole story of course. it is possible that kobe simply took similar shots but slightly further, or that the whole shot distribution has changed. let's further investigate this hypothesis\n\n"
    },
    {
      "metadata": {
        "_cell_guid": "3adc4fc4-2782-49c6-b021-d89eb50af1b5",
        "_uuid": "308de56ea679e189e9dc2772bd9869afe2487326"
      },
      "cell_type": "markdown",
      "source": "# Kobe Shots Distribution over the years"
    },
    {
      "metadata": {
        "_cell_guid": "56b2b120-8304-c979-5c76-397743b7165c",
        "_uuid": "70784543e935adc504bbe6a432f43c2b09633e1e",
        "trusted": false
      },
      "cell_type": "code",
      "source": "shot_type = dict()\ntypes = np.unique(df.combined_shot_type)\nyears = [97,98,99,0,1,2,3,4,5,6,7,8,9,10,11,12,13,14,15,16]\n\nfor s_type in types:\n    \n    temp = list(range(len(years)))\n    ind = 0\n    \n    for year in years:\n        temp[ind] = np.true_divide(len(df[(df.combined_shot_type==s_type) & (df.numeric_season == year)]),len(df[df.numeric_season==year]))\n        ind = ind + 1\n              \n    shot_type[s_type] = temp\n    \nplot_years = np.linspace(1997,2016,20)\n\nplt.figure(figsize = (10,10))\nplt.bar(plot_years,shot_type['Jump Shot'])\nplt.bar(plot_years,shot_type['Layup'],bottom =shot_type['Jump Shot'], color = 'r' )  \nbot = np.add(shot_type['Jump Shot'] ,shot_type['Layup'])\nplt.bar(plot_years,shot_type['Dunk'],bottom = bot,color = 'g')  \nplt.xlabel('Year')\nplt.ylabel('% of shots')\nplt.legend(['Jump Shot','Layup','Dunk'],loc = 3,fontsize = 25)\nplt.ylim([0,1])\nplt.xlim([1997,2017])\nplt.show()",
      "execution_count": null,
      "outputs": []
    },
    {
      "metadata": {
        "_cell_guid": "40bf4dea-5278-e8c6-badf-dcba92caf7e1",
        "_uuid": "95f24d7e2239997752f61ec0796503119657100b"
      },
      "cell_type": "markdown",
      "source": "# Kobe shot's distribution:\n\n1. In his early career, almost 40% of Kobe's shots were a results of a penetration (Lay-ups and Dunks)\n2. in his last year, these kind of shots composed less than 20% of his total shots"
    },
    {
      "metadata": {
        "_cell_guid": "a840e8af-49b6-2eb7-8f0e-d8c10286e8f8",
        "_uuid": "63a34016c1403ef7d04c14bc4f0bf612aca4708e"
      },
      "cell_type": "markdown",
      "source": "# Zoom in on one of his first and his last season tells the story"
    },
    {
      "metadata": {
        "_cell_guid": "8f35d2c6-6636-cfa1-ec58-a4e779b32ff5",
        "_uuid": "8bc354460deb94142e0b7b0675da2393969a16eb",
        "trusted": false
      },
      "cell_type": "code",
      "source": "plt.figure(figsize = (10,10))\nshot_hist_98 = np.histogram(df.shot_distance[df.numeric_season == 98],bins = 50)\nshot_hist_16 = np.histogram(df.shot_distance[df.numeric_season == 16],bins = 50)\nplt.plot(np.divide(shot_hist_98[1][1:],3.3),shot_hist_98[0],color = 'r')\nplt.plot(np.divide(shot_hist_16[1][1:],3.3),shot_hist_16[0],color = 'b')\nthree_plot_x = [7.45,7.45]\nthree_plot_y = [0,350]\n\nplt.plot(three_plot_x,three_plot_y, color = 'g')\nplt.xlim([0,15])\nplt.xlabel('Distance From Basket [m]')\nplt.ylabel('Number of Shots')\nplt.legend(['1998','2016','3 Points line'], loc = 1,fontsize = 20)\n\nplt.show()",
      "execution_count": null,
      "outputs": []
    },
    {
      "metadata": {
        "_cell_guid": "9ca1ba1d-528d-ff6c-6d79-8202263916a9",
        "_uuid": "7ea2c6abf14d59268ad539ea7119d6926eefa9b7"
      },
      "cell_type": "markdown",
      "source": "As we can see, there is a huge difference between the two distributions:\n\n - In 1998, the most common shot distance was ~1m - which almost\n   necessarily represents a dunk or a lay-up shot, usually after passing\n   at least one defender\n - In 2016, on the contrary, the most common shot was beyond the 3-points line, which usually doesn't require passing any defendant"
    },
    {
      "metadata": {
        "_cell_guid": "b14bc083-e7e7-63ae-039d-2d7e3e0046cb",
        "_uuid": "9a1932ef019c1bf999c191385f19c06650b291db"
      },
      "cell_type": "markdown",
      "source": "# But are these necessarily bad signs? could it be that Kobe simply mastered the shot for 3, rendering the penetration obsolete? "
    },
    {
      "metadata": {
        "_cell_guid": "6a25fc67-c234-f228-cbde-f50f2e11351d",
        "_uuid": "0ba2d666f349f285c4c9451589a4bd94628b8f33",
        "trusted": false
      },
      "cell_type": "code",
      "source": "\n\nyears = [97,98,99,0,1,2,3,4,5,6,7,8,9,10,11,12,13,14,15,16]\nfield_goals = []\nfor year in years:\n    shots = len(df[df.numeric_season == year])\n    shots_made = len(df[(df.numeric_season == year) & (df.shot_made_flag == 1)])\n    field_goals.append(shots_made/shots)\n    \nplt.figure(figsize = (10,10))\nplt.title('Field Goals over time')\nplt.ylabel('Field Goals')\nplt.xlabel('Year')\nplt.plot(np.arange(1997,2017,1),field_goals,'-o', markersize = 20)",
      "execution_count": null,
      "outputs": []
    },
    {
      "metadata": {
        "_cell_guid": "3fe28078-93bf-f84b-6a66-2c3509490490",
        "_uuid": "4dea03089c9bbe1a001994c6b669f22006fa701b"
      },
      "cell_type": "markdown",
      "source": "# So was the transition to long distance shots an improvement or the sign of decay? the answer is both"
    },
    {
      "metadata": {
        "_cell_guid": "070f8c61-3485-54c5-4622-6ce6a31b24c9",
        "_uuid": "de702e26d93d28d392fc3fc99a83a9e7f5398a23"
      },
      "cell_type": "markdown",
      "source": " - we can see that at the beginning of his career, Kobe's field goals improved despite the fact that as we have seen the average shot distance increases and the rate of lay-ups and dunks - which are treditionally considered to be easy shots - decreases. this means the ripe Kobe, form 2000 to 2008, is better than young Kobe. Either in terms of shot selection or simply aiming skills. \n\n - However, after the year 2008 (when Kobe is still in his prime and the Lakers are the best team in the NBA), we start to see that Kobe's field goals start to go down, they eventually plummet quite dramatically at the end of his career"
    }
  ],
  "metadata": {
    "_change_revision": 0,
    "_is_fork": false,
    "kernelspec": {
      "display_name": "Python 3",
      "language": "python",
      "name": "python3"
    },
    "language_info": {
      "name": "python",
      "version": "3.6.6",
      "mimetype": "text/x-python",
      "codemirror_mode": {
        "name": "ipython",
        "version": 3
      },
      "pygments_lexer": "ipython3",
      "nbconvert_exporter": "python",
      "file_extension": ".py"
    }
  },
  "nbformat": 4,
  "nbformat_minor": 1
}